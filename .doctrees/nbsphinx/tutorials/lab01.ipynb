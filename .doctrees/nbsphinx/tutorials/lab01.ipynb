{
 "cells": [
  {
   "cell_type": "markdown",
   "metadata": {
    "colab_type": "text",
    "id": "view-in-github"
   },
   "source": [
    "<a href=\"https://colab.research.google.com/github/unica-isde/isde/blob/master/notebooks/lab01.ipynb\" target=\"_parent\"><img src=\"https://colab.research.google.com/assets/colab-badge.svg\" alt=\"Open In Colab\"/></a>"
   ]
  },
  {
   "cell_type": "markdown",
   "metadata": {
    "id": "An3Ff55YMRLg"
   },
   "source": [
    "# Python Basics\n",
    "\n",
    "This notebook includes some examples from this lecture: https://github.com/unica-isde/isde/blob/master/slides/03-Python.pdf "
   ]
  },
  {
   "cell_type": "code",
   "execution_count": 1,
   "metadata": {
    "colab": {
     "base_uri": "https://localhost:8080/",
     "height": 55
    },
    "id": "Uc1Xm-lsGNig",
    "outputId": "47439f72-e5d8-40d1-b0f8-7717874b5176"
   },
   "outputs": [
    {
     "name": "stdout",
     "output_type": "stream",
     "text": [
      "Hello world!\n"
     ]
    }
   ],
   "source": [
    "# welcome\n",
    "print(\"Hello world!\")"
   ]
  },
  {
   "cell_type": "code",
   "execution_count": 2,
   "metadata": {
    "colab": {
     "base_uri": "https://localhost:8080/",
     "height": 72
    },
    "id": "tCEyBqYydtcV",
    "outputId": "3657930a-b483-48b2-fa94-13e024089da3"
   },
   "outputs": [
    {
     "name": "stdout",
     "output_type": "stream",
     "text": [
      "12\n",
      "Hello World\n"
     ]
    }
   ],
   "source": [
    "x = 34 - 23\n",
    "y = \"Hello\"\n",
    "z = 3.45\n",
    "\n",
    "if z == 3.45 or y==\"Hello\": \n",
    "    x = x + 1\n",
    "    y = y + \" World\"\n",
    "\n",
    "print(\"x: \", x)\n",
    "print(\"y: \", y)"
   ]
  },
  {
   "cell_type": "markdown",
   "metadata": {
    "id": "o71Z6S2TdmTV"
   },
   "source": [
    "## Lists\n",
    "\n",
    "Modify mutable objects with in-place operators..."
   ]
  },
  {
   "cell_type": "code",
   "execution_count": 5,
   "metadata": {
    "colab": {
     "base_uri": "https://localhost:8080/",
     "height": 72
    },
    "id": "9TjlXzlyXjEg",
    "outputId": "deab7545-2708-493f-ba02-69c0b8b6ee5b"
   },
   "outputs": [
    {
     "name": "stdout",
     "output_type": "stream",
     "text": [
      "x:  [1, 2, 3, 4]\n",
      "y:  [1, 2, 3, 4]\n"
     ]
    }
   ],
   "source": [
    "x = [1, 2, 3]\n",
    "y = x\n",
    "x.append(4)  # this modifies both lists \n",
    "print(\"x: \", x)\n",
    "print(\"y: \", y)"
   ]
  },
  {
   "cell_type": "markdown",
   "metadata": {
    "id": "lgISISCYhvp2"
   },
   "source": [
    "... and avoid the issue by copying the object first."
   ]
  },
  {
   "cell_type": "code",
   "execution_count": 4,
   "metadata": {
    "colab": {
     "base_uri": "https://localhost:8080/",
     "height": 72
    },
    "id": "JV9xiaAxeWb2",
    "outputId": "769a6f6a-c1f1-4bba-be77-8d4808ee3140"
   },
   "outputs": [
    {
     "name": "stdout",
     "output_type": "stream",
     "text": [
      "x:  [1, 2, 3, 4]\n",
      "y:  [1, 2, 3]\n"
     ]
    }
   ],
   "source": [
    "x = [1, 2, 3]\n",
    "y = x[:]  #  copy the whole list in memory\n",
    "x.append(4)\n",
    "print(\"x: \", x)\n",
    "print(\"y: \", y)"
   ]
  },
  {
   "cell_type": "markdown",
   "metadata": {
    "id": "Zsm5h9zlh0qX"
   },
   "source": [
    "Other operations with lists."
   ]
  },
  {
   "cell_type": "code",
   "execution_count": 6,
   "metadata": {
    "colab": {
     "base_uri": "https://localhost:8080/",
     "height": 72
    },
    "id": "KQ7tVQ9ecGfl",
    "outputId": "95e0024c-2e31-407a-efd7-9525188b6b05"
   },
   "outputs": [
    {
     "name": "stdout",
     "output_type": "stream",
     "text": [
      "[0, 1, 2, 3, 4]\n",
      "[-10, -11, -12, -13, -14, -15, -16, -17, -18, -19]\n"
     ]
    }
   ],
   "source": [
    "l = list(range(0,5))\n",
    "print(l)\n",
    "\n",
    "l = list(range(-10,-20,-1))\n",
    "print(l)"
   ]
  },
  {
   "cell_type": "markdown",
   "metadata": {
    "id": "d5rpplUnh9dc"
   },
   "source": [
    "## Control of flow\n",
    "\n",
    "Examples of ```for``` loops."
   ]
  },
  {
   "cell_type": "code",
   "execution_count": 8,
   "metadata": {
    "colab": {
     "base_uri": "https://localhost:8080/",
     "height": 231
    },
    "id": "NtyO_Uh9mpCv",
    "outputId": "99bc4921-2af9-4f2e-f963-d5ca290de3a8"
   },
   "outputs": [
    {
     "name": "stdout",
     "output_type": "stream",
     "text": [
      "a\n",
      "b\n",
      "c\n",
      " \n",
      "0 a\n",
      "1 b\n",
      "2 c\n",
      " \n",
      "0 a\n",
      "1 b\n",
      "2 c\n"
     ]
    }
   ],
   "source": [
    "a = ['a', 'b', 'c']\n",
    "\n",
    "for elem in a:\n",
    "    print(elem)\n",
    "\n",
    "print(\" \")\n",
    "\n",
    "for i, elem in enumerate(a):\n",
    "    print(i, elem)\n",
    "\n",
    "print(\" \")\n",
    "\n",
    "for i in range(len(a)):\n",
    "    print(i, a[i])"
   ]
  },
  {
   "cell_type": "markdown",
   "metadata": {
    "id": "CbJwsN5liKfo"
   },
   "source": [
    "## Numpy arrays\n",
    "\n",
    "Some examples of indexing."
   ]
  },
  {
   "cell_type": "code",
   "execution_count": 14,
   "metadata": {
    "colab": {
     "base_uri": "https://localhost:8080/",
     "height": 301
    },
    "id": "Ho9zZmk0qtn4",
    "outputId": "80bdeae9-d9db-4533-9598-397702622313"
   },
   "outputs": [
    {
     "name": "stdout",
     "output_type": "stream",
     "text": [
      "Identity matrix:  [[1. 0. 0.]\n",
      " [0. 1. 0.]\n",
      " [0. 0. 1.]]\n",
      " \n",
      "Rows to be extracted:  [1 1 0]\n",
      "... when idx==1:  [ True  True False]\n",
      " \n",
      "Indexing with a Boolean vector:\n",
      " [[1. 0. 0.]\n",
      " [0. 1. 0.]]\n",
      " \n",
      "Indexing with a list of indices:\n",
      " [[1. 0. 0.]\n",
      " [0. 1. 0.]]\n",
      " \n"
     ]
    }
   ],
   "source": [
    "import numpy as np\n",
    "\n",
    "a = np.eye(3)\n",
    "print(\"Identity matrix: \", a)\n",
    "print(\" \")\n",
    "\n",
    "idx = np.array([1, 1, 0])  # extract first and second row (idx==1)\n",
    "print(\"Rows to be extracted: \", idx)\n",
    "print(\"... when idx==1: \", idx == 1)\n",
    "print(\" \")\n",
    "\n",
    "print(\"Indexing with a Boolean vector:\\n\", a[idx==1, :])\n",
    "print(\" \")\n",
    "\n",
    "r = [0,1]  # extract rows with index 0 and 1\n",
    "print(\"Indexing with a list of indices:\\n\", a[r,:])\n",
    "print(\" \")"
   ]
  }
 ],
 "metadata": {
  "colab": {
   "authorship_tag": "ABX9TyNEoVzM3tbiBdB4f6+DV6Hf",
   "include_colab_link": true,
   "name": "lab01.ipynb",
   "provenance": []
  },
  "kernelspec": {
   "display_name": "Python 3",
   "name": "python3"
  }
 },
 "nbformat": 4,
 "nbformat_minor": 0
}
