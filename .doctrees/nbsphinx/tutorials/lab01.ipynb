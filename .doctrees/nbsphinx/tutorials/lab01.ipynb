{
 "cells": [
  {
   "cell_type": "markdown",
   "metadata": {
    "colab_type": "text",
    "id": "view-in-github"
   },
   "source": [
    "<a href=\"https://colab.research.google.com/github/unica-isde/isde/blob/master/notebooks/lab01.ipynb\" target=\"_parent\"><img src=\"https://colab.research.google.com/assets/colab-badge.svg\" alt=\"Open In Colab\"/></a>"
   ]
  },
  {
   "cell_type": "markdown",
   "metadata": {
    "id": "An3Ff55YMRLg"
   },
   "source": [
    "# Python Basics\n"
   ]
  },
  {
   "cell_type": "code",
   "execution_count": 2,
   "metadata": {
    "colab": {
     "base_uri": "https://localhost:8080/",
     "height": 70
    },
    "id": "Uc1Xm-lsGNig",
    "outputId": "fd69bcc9-e288-4cc9-84a9-6284213d6ed7"
   },
   "outputs": [
    {
     "name": "stdout",
     "output_type": "stream",
     "text": [
      "Hello world!\n",
      "x:  [1, 2, 3, 4]\n",
      "y:  [1, 2, 3, 4]\n"
     ]
    }
   ],
   "source": [
    "# welcome\n",
    "print(\"Hello world!\")\n",
    "\n",
    "x = [1, 2, 3]\n",
    "y = x\n",
    "x.append(4)\n",
    "print(\"x: \", x)\n",
    "print(\"y: \", y)\n"
   ]
  },
  {
   "cell_type": "code",
   "execution_count": 3,
   "metadata": {
    "colab": {
     "base_uri": "https://localhost:8080/",
     "height": 53
    },
    "id": "9TjlXzlyXjEg",
    "outputId": "4686c3fe-bbfc-4f08-b822-5c516cf64983"
   },
   "outputs": [
    {
     "name": "stdout",
     "output_type": "stream",
     "text": [
      "x:  [1, 2, 3, 4]\n",
      "y:  [1, 2, 3]\n"
     ]
    }
   ],
   "source": [
    "x = [1, 2, 3]\n",
    "y = x[:]  #  copy the whole list in memory\n",
    "x.append(4)\n",
    "print(\"x: \", x)\n",
    "print(\"y: \", y)"
   ]
  },
  {
   "cell_type": "code",
   "execution_count": 8,
   "metadata": {
    "colab": {
     "base_uri": "https://localhost:8080/",
     "height": 53
    },
    "id": "KQ7tVQ9ecGfl",
    "outputId": "4f248943-3d95-4a57-d1b1-885e79147716"
   },
   "outputs": [
    {
     "name": "stdout",
     "output_type": "stream",
     "text": [
      "[0, 1, 2, 3, 4]\n",
      "[-10, -11, -12, -13, -14, -15, -16, -17, -18, -19]\n"
     ]
    }
   ],
   "source": [
    "l = list(range(0,5))\n",
    "print(l)\n",
    "\n",
    "l = list(range(-10,-20,-1))\n",
    "print(l)"
   ]
  },
  {
   "cell_type": "code",
   "execution_count": 13,
   "metadata": {
    "colab": {
     "base_uri": "https://localhost:8080/",
     "height": 177
    },
    "id": "NtyO_Uh9mpCv",
    "outputId": "eda36af4-5538-4615-c842-78dfefb7362f"
   },
   "outputs": [
    {
     "name": "stdout",
     "output_type": "stream",
     "text": [
      "pippo\n",
      "paperino\n",
      "topolino\n",
      "0 pippo\n",
      "1 paperino\n",
      "2 topolino\n",
      "0 pippo\n",
      "1 paperino\n",
      "2 topolino\n"
     ]
    }
   ],
   "source": [
    "a = ['pippo', 'paperino', 'topolino']\n",
    "\n",
    "for elem in a:\n",
    "    print(elem)\n",
    "\n",
    "for i, elem in enumerate(a):\n",
    "    print(i, elem)\n",
    "\n",
    "for i in range(len(a)):\n",
    "    print(i, a[i])"
   ]
  },
  {
   "cell_type": "code",
   "execution_count": 21,
   "metadata": {
    "colab": {
     "base_uri": "https://localhost:8080/",
     "height": 177
    },
    "id": "Ho9zZmk0qtn4",
    "outputId": "215ab730-455e-406a-f291-0782862e880c"
   },
   "outputs": [
    {
     "name": "stdout",
     "output_type": "stream",
     "text": [
      "[[1. 0. 0.]\n",
      " [0. 1. 0.]\n",
      " [0. 0. 1.]]\n",
      "[1 1 0]\n",
      "[ True  True False]\n",
      "[[1. 0. 0.]\n",
      " [0. 1. 0.]]\n",
      "[[1. 0. 0.]\n",
      " [0. 1. 0.]]\n"
     ]
    }
   ],
   "source": [
    "import numpy as np\n",
    "\n",
    "a = np.eye(3)\n",
    "print(a)\n",
    "\n",
    "idx = np.array([1, 1, 0])\n",
    "\n",
    "print(idx)\n",
    "print(idx == 1)\n",
    "\n",
    "print(a[idx==1, :])\n",
    "\n",
    "r = [0,1]\n",
    "print(a[r,:])\n"
   ]
  }
 ],
 "metadata": {
  "colab": {
   "authorship_tag": "ABX9TyMpacrxniyMvfQU238Acpu1",
   "include_colab_link": true,
   "name": "Copia di lab01.ipynb",
   "provenance": []
  },
  "kernelspec": {
   "display_name": "Python 3",
   "name": "python3"
  }
 },
 "nbformat": 4,
 "nbformat_minor": 0
}
