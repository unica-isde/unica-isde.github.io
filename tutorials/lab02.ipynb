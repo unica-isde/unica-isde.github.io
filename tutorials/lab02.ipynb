{
 "cells": [
  {
   "cell_type": "markdown",
   "metadata": {
    "colab_type": "text",
    "id": "view-in-github"
   },
   "source": [
    "<a href=\"https://colab.research.google.com/github/unica-isde/isde/blob/master/notebooks/lab02.ipynb\" target=\"_parent\"><img src=\"https://colab.research.google.com/assets/colab-badge.svg\" alt=\"Open In Colab\"/></a>"
   ]
  },
  {
   "cell_type": "markdown",
   "metadata": {
    "id": "w4HHiu0MPjNl"
   },
   "source": [
    "# Python - Programming Exercise\n",
    "\n",
    "In this programming exercise, we will implement a simple machine-learning algorithm to classify handwritten digits.\n",
    "\n",
    "We start by writing a simple function to load the popular MNIST handwritten digit images and visualize some examples."
   ]
  },
  {
   "cell_type": "code",
   "execution_count": 1,
   "metadata": {
    "colab": {
     "base_uri": "https://localhost:8080/",
     "height": 679
    },
    "id": "qlOvfEOXPhS3",
    "outputId": "ec0715c1-9ba6-42e3-e15a-86a9eafd8c95"
   },
   "outputs": [
    {
     "name": "stdout",
     "output_type": "stream",
     "text": [
      "(1000, 784)\n",
      "(1000,)\n",
      "[6 7 0 6 8 2 6 3 9 3 2 8 6 1 7 4 8 8 9 0 3 3 9 0 5 2 9 4 1 0 3 7 5 8 7 7 8\n",
      " 2 9 7 1 2 6 4 2 5 2 3 6 6 5 0 0 2 8 1 6 1 0 4 3 1 6 1 9 0 1 4 5 6 7 8 9 1\n",
      " 2 3 4 5 6 7 0 1 2 3 4 5 6 7 8 9 8 4 0 0 7 2 4 3 8 6 6 3 2 6 3 3 0 1 4 7 8\n",
      " 0 3 1 9 0 1 9 1 2 7 0 1 3 8 2 9 2 7 6 5 5 9 9 8 2 9 1 3 2 3 4 3 1 9 0 9 3\n",
      " 6 8 7 0 1 0 5 8 2 7 7 0 1 2 3 4 5 6 7 8 9 0 1 2 3 4 5 6 7 8 9 0 1 2 3 4 5\n",
      " 6 7 8 9 1 7 4 8 1 5 6 5 7 2 8 6 3 3 8 6 5 4 0 9 1 7 2 9 1 5 1 3 2 2 3 0 6\n",
      " 4 3 7 6 9 0 4 8 1 4 0 6 1 2 6 9 2 2 3 5 5 1 0 7 7 9 6 2 9 4 7 0 2 3 4 0 0\n",
      " 8 8 8 5 1 3 7 4 9 8 8 9 0 9 8 9 0 2 6 5 6 7 4 7 5 4 1 3 5 3 1 2 3 4 5 6 1\n",
      " 2 3 4 6 0 1 2 4 5 6 7 8 1 7 2 4 1 4 1 4 9 6 8 4 5 3 7 8 4 3 3 5 6 7 0 6 1\n",
      " 6 8 7 0 1 5 0 8 5 0 1 5 8 4 2 3 9 7 6 9 1 9 0 6 7 1 2 3 9 2 4 5 5 3 7 5 3\n",
      " 1 8 2 2 3 0 2 9 4 9 7 0 2 7 4 9 9 2 5 9 8 3 8 6 7 0 0 1 2 3 4 5 6 7 8 9 0\n",
      " 1 2 3 4 5 6 7 8 9 0 1 2 3 4 5 6 7 8 9 0 0 7 2 6 5 5 3 7 8 6 6 6 6 4 3 8 8\n",
      " 3 0 1 9 0 5 4 1 9 1 2 7 0 1 3 8 2 9 2 7 4 2 6 5 5 9 9 1 1 5 7 6 8 2 9 4 3\n",
      " 1 9 0 9 3 6 8 7 0 1 0 5 8 2 7 7 0 1 2 3 4 5 6 7 8 9 0 1 2 3 4 5 8 9 0 1 2\n",
      " 3 4 5 6 7 8 9 2 1 2 1 3 9 9 8 5 3 7 0 7 7 5 7 9 9 4 7 0 3 4 1 5 8 1 4 8 4\n",
      " 1 8 6 6 4 6 0 5 5 3 3 5 7 2 5 9 6 9 2 6 2 1 2 0 8 3 8 3 0 8 7 4 9 5 0 9 7\n",
      " 0 0 4 6 0 9 1 6 2 7 6 8 3 5 2 1 8 3 8 6 1 0 2 1 4 0 1 2 3 4 5 6 7 8 9 0 1\n",
      " 2 3 4 5 6 7 8 9 0 1 2 3 4 5 6 7 8 9 7 6 4 7 6 2 3 4 8 7 8 6 9 8 3 2 2 8 4\n",
      " 8 5 6 5 0 2 0 1 1 2 9 6 8 2 1 0 6 5 2 9 7 5 3 9 3 7 1 8 3 8 1 9 5 5 0 1 1\n",
      " 9 8 2 6 0 4 5 0 3 1 8 6 7 5 9 9 3 0 3 1 4 4 0 4 9 0 1 2 3 5 6 7 8 0 1 2 3\n",
      " 5 6 7 8 9 0 1 2 3 5 6 7 8 9 9 7 0 9 0 1 5 8 8 0 9 3 2 7 8 4 6 1 0 4 9 4 2\n",
      " 0 5 0 1 6 9 3 2 9 1 6 0 1 1 8 7 7 6 3 6 0 7 2 4 1 7 0 6 7 1 2 5 8 1 8 2 8\n",
      " 7 6 8 7 1 6 2 9 3 0 1 2 3 4 5 6 7 8 9 0 1 2 3 4 5 6 7 8 9 0 1 2 3 4 5 6 7\n",
      " 8 9 8 9 5 7 0 3 1 6 8 4 1 5 6 4 2 7 8 1 3 4 3 4 7 2 0 5 0 1 9 2 3 2 3 5 5\n",
      " 7 8 4 9 9 7 1 1 9 0 7 8 3 4 8 6 3 8 0 9 6 2 1 0 1 0 6 2 3 8 9 0 7 2 3 4 5\n",
      " 5 2 8 5 4 6 6 6 7 9 1 8 2 1 5 3 4 7 9 4 0 0 0 1 2 3 4 5 6 7 8 9 0 1 2 3 4\n",
      " 5 6 7 8 9 0 1 2 3 4 5 6 9 0 1 3 1 5 1 2 4 9 2 4 6 8 0 1 1 9 2 6 6 8 7 4 2\n",
      " 9] <class 'numpy.ndarray'>\n",
      "[[0. 0. 0. ... 0. 0. 0.]\n",
      " [0. 0. 0. ... 0. 0. 0.]\n",
      " [0. 0. 0. ... 0. 0. 0.]\n",
      " ...\n",
      " [0. 0. 0. ... 0. 0. 0.]\n",
      " [0. 0. 0. ... 0. 0. 0.]\n",
      " [0. 0. 0. ... 0. 0. 0.]] <class 'numpy.ndarray'>\n"
     ]
    }
   ],
   "source": [
    "import pandas as pd\n",
    "import numpy as np\n",
    "\n",
    "\n",
    "def load_mnist_data(filename, n_samples=None):\n",
    "    \"\"\"This function returns MNIST handwritten digits and labels as ndarrays.\"\"\"\n",
    "    data = pd.read_csv(filename)\n",
    "    data = np.array(data)  # cast pandas dataframe to numpy array\n",
    "    if n_samples is not None:  # only returning the first n_samples\n",
    "        data = data[:n_samples, :]\n",
    "    y = data[:,0]\n",
    "    x = data[:,1:] / 255.0\n",
    "    return x, y\n",
    "\n",
    "\n",
    "# loads data from a CSV file hosted in our repository\n",
    "filename = \"https://github.com/unica-isde/isde/raw/master/data/mnist_data.csv\"\n",
    "\n",
    "x, y = load_mnist_data(filename, n_samples=1000)\n",
    "print(x.shape)\n",
    "print(y.shape)\n",
    "print(y, type(y))\n",
    "print(x, type(x))"
   ]
  },
  {
   "cell_type": "markdown",
   "metadata": {
    "id": "bUzdAdqFZdJe"
   },
   "source": [
    "Let's count how many digit images we have for each class."
   ]
  },
  {
   "cell_type": "code",
   "execution_count": 2,
   "metadata": {
    "colab": {
     "base_uri": "https://localhost:8080/",
     "height": 228
    },
    "id": "MKs4suZ-VqAq",
    "outputId": "9af9776c-f9e8-4f3b-b9c1-d25ba4095fe9"
   },
   "outputs": [
    {
     "name": "stdout",
     "output_type": "stream",
     "text": [
      "0 105\n",
      "1 113\n",
      "2 105\n",
      "3 99\n",
      "4 87\n",
      "5 89\n",
      "6 101\n",
      "7 98\n",
      "8 102\n",
      "9 101\n",
      "[105 113 105  99  87  89 101  98 102 101]\n"
     ]
    }
   ],
   "source": [
    "num_classes = np.unique(y).size  # number of unique elements in y\n",
    "counts = np.zeros(shape=(num_classes,), dtype=int)\n",
    "\n",
    "for i in range(num_classes):\n",
    "    counts[i] = np.array(y==i).sum()\n",
    "    print(i, counts[i])\n",
    "\n",
    "print(counts)"
   ]
  },
  {
   "cell_type": "markdown",
   "metadata": {
    "id": "2iMjNSABZwke"
   },
   "source": [
    "Let's plot some digit examples. Each digit is stored as a row vector of 784 elements. To display it as an image, we need to reshape this vector as a 28x28 matrix, and then use the command ```imshow```."
   ]
  },
  {
   "cell_type": "code",
   "execution_count": 3,
   "metadata": {
    "colab": {
     "base_uri": "https://localhost:8080/",
     "height": 328
    },
    "id": "G_kVQRxCW7cs",
    "outputId": "e7c805a1-e544-4646-bcc5-3d34478d6de8"
   },
   "outputs": [
    {
     "data": {
      "image/png": "[encoded data removed]",
      "text/plain": [
       "<Figure size 720x360 with 10 Axes>"
      ]
     },
     "metadata": {
      "needs_background": "light",
      "tags": []
     },
     "output_type": "display_data"
    }
   ],
   "source": [
    "import matplotlib.pyplot as plt\n",
    "\n",
    "\n",
    "def plot_image(im, shape=(28,28)):\n",
    "    '''Plot one image after reshaping.'''\n",
    "    im = im.reshape(shape)  # reshape the digit to be 28x28\n",
    "    plt.imshow(im, cmap='binary')\n",
    "\n",
    "def plot_ten_images(x, y, shape=(28,28)):\n",
    "    '''Plot the first ten images from x in a 2x5 plot, after reshaping.'''\n",
    "    plt.figure(figsize=(10,5))  # new figure with height=5, width=10\n",
    "    for i in range(10):\n",
    "        plt.subplot(2, 5, i+1)\n",
    "        image = x[i, :]\n",
    "        plot_image(image, shape=shape)\n",
    "        plt.title(\"label: \" + str(y[i]))\n",
    "\n",
    "\n",
    "plot_ten_images(x,y,shape=(28,28))"
   ]
  },
  {
   "cell_type": "markdown",
   "metadata": {
    "id": "HEs6VorSIFaW"
   },
   "source": [
    "## Splitting data into training and test"
   ]
  },
  {
   "cell_type": "code",
   "execution_count": 4,
   "metadata": {
    "colab": {
     "base_uri": "https://localhost:8080/"
    },
    "id": "4PEnMQ7hIJ5G",
    "outputId": "e987365c-bd1a-4f18-fa87-d908aa2d01a5"
   },
   "outputs": [
    {
     "name": "stdout",
     "output_type": "stream",
     "text": [
      "[597 188 957 165 633 100 290 976  46 626]\n",
      "600 600\n",
      "400 400\n",
      "(600, 784) (600,)\n",
      "(400, 784) (400,)\n"
     ]
    }
   ],
   "source": [
    "# x: 1000, 784; y=1000\n",
    "tr_frac = 0.6\n",
    "\n",
    "n_samples = x.shape[0]\n",
    "\n",
    "n_tr = int(tr_frac*n_samples)\n",
    "n_ts = n_samples - n_tr\n",
    "\n",
    "# create a vector of indices from 0 to 999 = [0, 1, 2, ... 999]\n",
    "idx = np.linspace(0, n_samples, num=n_samples, endpoint=False, dtype='int')\n",
    "np.random.shuffle(idx)  # shuffling the elements of idx (in-place)\n",
    "\n",
    "print(idx[:10])\n",
    "\n",
    "tr_idx = idx[:n_tr]  # extract the subset of training indices (first n_tr samples)\n",
    "ts_idx = idx[n_tr:]  # extract the subset of training indices (first n_tr samples)\n",
    "\n",
    "xtr = x[tr_idx,:] \n",
    "ytr = y[tr_idx]\n",
    "\n",
    "xts = x[ts_idx,:] \n",
    "yts = y[ts_idx]\n",
    "\n",
    "print(n_tr, tr_idx.size)\n",
    "print(n_ts, ts_idx.size)\n",
    "print(xtr.shape, ytr.shape)\n",
    "print(xts.shape, yts.shape)\n",
    "\n",
    "assert(n_tr==tr_idx.size)\n",
    "assert(n_ts==ts_idx.size)"
   ]
  },
  {
   "cell_type": "code",
   "execution_count": 5,
   "metadata": {
    "id": "WSB4Y2HkOzu3"
   },
   "outputs": [],
   "source": [
    "def data_split(x, y, tr_frac=0.6):\n",
    "    n_samples = x.shape[0]\n",
    "\n",
    "    n_tr = int(tr_frac*n_samples)\n",
    "    n_ts = n_samples - n_tr\n",
    "\n",
    "    # create a vector of indices from 0 to 999 = [0, 1, 2, ... n_samples-1]\n",
    "    idx = np.linspace(0, n_samples, num=n_samples, endpoint=False, dtype='int')\n",
    "    np.random.shuffle(idx)  # shuffling the elements of idx (in-place)\n",
    "\n",
    "    tr_idx = idx[:n_tr]  # extract the subset of training indices \n",
    "    ts_idx = idx[n_tr:]  # extract the subset of test indices \n",
    "\n",
    "    # check coherence with the number of extracted elements\n",
    "    assert(n_tr==tr_idx.size)\n",
    "    assert(n_ts==ts_idx.size)\n",
    "\n",
    "    xtr = x[tr_idx,:] \n",
    "    ytr = y[tr_idx]\n",
    "    xts = x[ts_idx,:] \n",
    "    yts = y[ts_idx]\n",
    "    return xtr, ytr, xts, yts\n",
    "\n",
    "\n",
    "tr_frac = 0.6\n",
    "xtr, ytr, xts, yts = data_split(x, y, tr_frac=tr_frac)\n"
   ]
  },
  {
   "cell_type": "markdown",
   "metadata": {
    "id": "R1Syau-KbSN6"
   },
   "source": [
    "## Implementing the fit function\n",
    "\n",
    "We now implement the fit function of the nearest-mean-centroid (NMC) classifier. It consists of estimating the average centroid for each class. Then, during prediction, the classifier will assign the input sample to the class of the closest centroid.\n",
    "\n",
    "Let's start by estimating the centroid for class 0."
   ]
  },
  {
   "cell_type": "code",
   "execution_count": 6,
   "metadata": {
    "colab": {
     "base_uri": "https://localhost:8080/",
     "height": 380
    },
    "id": "7RAlqFZ8mXKZ",
    "outputId": "c1dd87e8-a1cb-4b79-ee49-efc470264da7"
   },
   "outputs": [
    {
     "name": "stdout",
     "output_type": "stream",
     "text": [
      "69\n",
      "69\n",
      "(784,)\n"
     ]
    },
    {
     "data": {
      "image/png": "[encoded data removed]",
      "text/plain": [
       "<Figure size 720x360 with 10 Axes>"
      ]
     },
     "metadata": {
      "needs_background": "light",
      "tags": []
     },
     "output_type": "display_data"
    }
   ],
   "source": [
    "# fit my classification function (estimate centroids from training data)\n",
    "x0 = xtr[ytr==0, :]\n",
    "y0 = ytr[ytr==0]\n",
    "\n",
    "print(y0.size)\n",
    "print(x0.shape[0])\n",
    "\n",
    "plot_ten_images(x0,y0,shape=(28,28))\n",
    "\n",
    "centroid0 = x0.mean(axis=0)\n",
    "print(centroid0.shape)"
   ]
  },
  {
   "cell_type": "code",
   "execution_count": 7,
   "metadata": {
    "colab": {
     "base_uri": "https://localhost:8080/",
     "height": 286
    },
    "id": "ipbJIfc_tASV",
    "outputId": "6088d596-ed52-412c-9c64-21f594539294"
   },
   "outputs": [
    {
     "data": {
      "image/png": "[encoded data removed]",
      "text/plain": [
       "<Figure size 432x288 with 1 Axes>"
      ]
     },
     "metadata": {
      "needs_background": "light",
      "tags": []
     },
     "output_type": "display_data"
    }
   ],
   "source": [
    "plot_image(centroid0)"
   ]
  },
  {
   "cell_type": "markdown",
   "metadata": {
    "id": "06AixVIkb30Z"
   },
   "source": [
    "We can now generalize our algorithm to compute the centroids of all classes."
   ]
  },
  {
   "cell_type": "code",
   "execution_count": 8,
   "metadata": {
    "colab": {
     "base_uri": "https://localhost:8080/",
     "height": 346
    },
    "id": "S-I774YbtVZ0",
    "outputId": "3d42fb41-4ed2-45ff-c804-843dd715d81c"
   },
   "outputs": [
    {
     "name": "stdout",
     "output_type": "stream",
     "text": [
      "(10, 784)\n"
     ]
    },
    {
     "data": {
      "image/png": "[encoded data removed]",
      "text/plain": [
       "<Figure size 720x360 with 10 Axes>"
      ]
     },
     "metadata": {
      "needs_background": "light",
      "tags": []
     },
     "output_type": "display_data"
    }
   ],
   "source": [
    "# compute centroid for each class\n",
    "num_features = xtr.shape[1]\n",
    "centroids = np.zeros(shape=(num_classes, num_features))\n",
    "labels = np.zeros(shape=(num_classes, ), dtype='int')\n",
    "print(centroids.shape)\n",
    "\n",
    "for i in range(num_classes):\n",
    "    xi = xtr[ytr==i, :]  # all digits from class i\n",
    "    centroids[i,:] = xi.mean(axis=0)  # average digit for class i\n",
    "    labels[i] = i  # label of i-th centroid\n",
    "\n",
    "plot_ten_images(centroids,labels,shape=(28,28))"
   ]
  },
  {
   "cell_type": "markdown",
   "metadata": {
    "id": "mqnnoYracZRj"
   },
   "source": [
    "Finally, we create the function ```fit```."
   ]
  },
  {
   "cell_type": "code",
   "execution_count": 9,
   "metadata": {
    "colab": {
     "base_uri": "https://localhost:8080/",
     "height": 328
    },
    "id": "AM3Sc2HGxTh1",
    "outputId": "3b7dc5c0-283b-4882-912c-9cbac8f442f4"
   },
   "outputs": [
    {
     "data": {
      "image/png": "[encoded data removed]",
      "text/plain": [
       "<Figure size 720x360 with 10 Axes>"
      ]
     },
     "metadata": {
      "needs_background": "light",
      "tags": []
     },
     "output_type": "display_data"
    }
   ],
   "source": [
    "def fit(x_tr, y_tr):\n",
    "    \"\"\"Estimate the centroid for each class from the training data\"\"\"\n",
    "    labels = np.unique(y_tr) \n",
    "    centroids = np.zeros(shape=(labels.size, x_tr.shape[1]))\n",
    "\n",
    "    for i, label in enumerate(labels):\n",
    "        centroids[i,:] = x_tr[y_tr==label, :].mean(axis=0)  # centr. for class i\n",
    "\n",
    "    return centroids, labels\n",
    "\n",
    "\n",
    "centroids, labels = fit(xtr, ytr)\n",
    "\n",
    "plot_ten_images(centroids,labels,shape=(28,28))"
   ]
  },
  {
   "cell_type": "markdown",
   "metadata": {
    "id": "XXYtzTtfQyLs"
   },
   "source": [
    "## Predict"
   ]
  },
  {
   "cell_type": "code",
   "execution_count": 13,
   "metadata": {
    "colab": {
     "base_uri": "https://localhost:8080/",
     "height": 280
    },
    "id": "ul87S7CoQ0jX",
    "outputId": "86b8f98d-50a9-4b6a-b6a0-5f3a1f18c61a"
   },
   "outputs": [
    {
     "name": "stdout",
     "output_type": "stream",
     "text": [
      "(400, 10)\n",
      "[[ 82.47418788  68.04371458  63.97238393 ...  72.13403483  66.77236752\n",
      "   59.6151264 ]\n",
      " [ 90.24043208  60.02508165  66.83375329 ...  39.38282867  41.58368566\n",
      "   26.3413887 ]\n",
      " [ 78.85986273  69.18314114  62.52921618 ...  64.86313171  30.94249454\n",
      "   54.97470575]\n",
      " ...\n",
      " [109.41676136  15.60602139  58.74328117 ...  62.76526645  65.43744293\n",
      "   66.49544573]\n",
      " [ 98.24881146  79.23338429  39.05429636 ...  84.91188748  76.67201482\n",
      "   76.08095086]\n",
      " [ 26.91527353 135.31568504  84.38199849 ... 115.19860041  77.67286588\n",
      "  111.34640396]]\n"
     ]
    }
   ],
   "source": [
    "# xts, centroids\n",
    "\n",
    "n_samples = xts.shape[0]\n",
    "n_classes = centroids.shape[0]\n",
    "dist = np.zeros(shape=(n_samples, n_classes))\n",
    "\n",
    "print(dist.shape)\n",
    "\n",
    "for i in range(n_samples):\n",
    "    for k in range(n_classes):\n",
    "        #v = (xts[i,:]-centroids[k,:])**2\n",
    "        #dist[i,k] = v.sum()\n",
    "        dist[i,k] = np.linalg.norm(xts[i,:]-centroids[k,:], ord=2)\n",
    "\n",
    "print(dist)"
   ]
  }
 ],
 "metadata": {
  "colab": {
   "authorship_tag": "ABX9TyMzhkBq1EbGTbgPvJCPtQOf",
   "collapsed_sections": [],
   "include_colab_link": true,
   "name": "lab02.ipynb",
   "provenance": []
  },
  "kernelspec": {
   "display_name": "Python 3",
   "name": "python3"
  }
 },
 "nbformat": 4,
 "nbformat_minor": 0
}
