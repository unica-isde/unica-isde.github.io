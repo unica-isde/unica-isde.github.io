{
 "cells": [
  {
   "cell_type": "markdown",
   "metadata": {
    "colab_type": "text",
    "id": "view-in-github"
   },
   "source": [
    "<a href=\"https://colab.research.google.com/github/unica-isde/isde/blob/master/notebooks/lab02.ipynb\" target=\"_parent\"><img src=\"https://colab.research.google.com/assets/colab-badge.svg\" alt=\"Open In Colab\"/></a>"
   ]
  },
  {
   "cell_type": "markdown",
   "metadata": {
    "id": "w4HHiu0MPjNl"
   },
   "source": [
    "# Python - Programming Exercise\n",
    "\n",
    "In this programming exercise, we will implement a simple machine-learning algorithm to classify handwritten digits.\n",
    "\n",
    "We start by writing a simple function to load the popular MNIST handwritten digit images and visualize some examples."
   ]
  },
  {
   "cell_type": "code",
   "execution_count": 1,
   "metadata": {
    "colab": {
     "base_uri": "https://localhost:8080/",
     "height": 203
    },
    "id": "qlOvfEOXPhS3",
    "outputId": "59281d42-33b5-4686-bf6a-74052cefe392"
   },
   "outputs": [
    {
     "name": "stdout",
     "output_type": "stream",
     "text": [
      "(2890, 784)\n",
      "(2890,)\n",
      "[6 7 0 ... 4 5 6] <class 'numpy.ndarray'>\n",
      "[[0. 0. 0. ... 0. 0. 0.]\n",
      " [0. 0. 0. ... 0. 0. 0.]\n",
      " [0. 0. 0. ... 0. 0. 0.]\n",
      " ...\n",
      " [0. 0. 0. ... 0. 0. 0.]\n",
      " [0. 0. 0. ... 0. 0. 0.]\n",
      " [0. 0. 0. ... 0. 0. 0.]] <class 'numpy.ndarray'>\n"
     ]
    }
   ],
   "source": [
    "import pandas as pd\n",
    "import numpy as np\n",
    "\n",
    "\n",
    "def load_mnist_data(filename, n_samples=None):\n",
    "    \"\"\"This function returns MNIST handwritten digits and labels as ndarrays.\"\"\"\n",
    "    data = pd.read_csv(filename)\n",
    "    data = np.array(data)  # cast pandas dataframe to numpy array\n",
    "    if n_samples is not None:  # only returning the first n_samples\n",
    "        data = data[:n_samples, :]\n",
    "    y = data[:,0]\n",
    "    x = data[:,1:] / 255.0\n",
    "    return x, y\n",
    "\n",
    "\n",
    "# loads data from a CSV file hosted in our repository\n",
    "filename = \"https://github.com/unica-isde/isde/raw/master/data/mnist_data.csv\"\n",
    "\n",
    "x, y = load_mnist_data(filename) # , n_samples=1000)\n",
    "print(x.shape)\n",
    "print(y.shape)\n",
    "print(y, type(y))\n",
    "print(x, type(x))"
   ]
  },
  {
   "cell_type": "markdown",
   "metadata": {
    "id": "bUzdAdqFZdJe"
   },
   "source": [
    "Let's count how many digit images we have for each class."
   ]
  },
  {
   "cell_type": "code",
   "execution_count": 2,
   "metadata": {
    "colab": {
     "base_uri": "https://localhost:8080/",
     "height": 220
    },
    "id": "MKs4suZ-VqAq",
    "outputId": "d305a9f6-9a31-4b1d-c613-5fef14e7df7a"
   },
   "outputs": [
    {
     "name": "stdout",
     "output_type": "stream",
     "text": [
      "0 300\n",
      "1 329\n",
      "2 291\n",
      "3 297\n",
      "4 269\n",
      "5 250\n",
      "6 291\n",
      "7 305\n",
      "8 279\n",
      "9 279\n",
      "[300 329 291 297 269 250 291 305 279 279]\n"
     ]
    }
   ],
   "source": [
    "num_classes = np.unique(y).size  # number of unique elements in y\n",
    "counts = np.zeros(shape=(num_classes,), dtype=int)\n",
    "\n",
    "for i in range(num_classes):\n",
    "    counts[i] = np.array(y==i).sum()\n",
    "    print(i, counts[i])\n",
    "\n",
    "print(counts)"
   ]
  },
  {
   "cell_type": "markdown",
   "metadata": {
    "id": "2iMjNSABZwke"
   },
   "source": [
    "Let's plot some digit examples. Each digit is stored as a row vector of 784 elements. To display it as an image, we need to reshape this vector as a 28x28 matrix, and then use the command ```imshow```."
   ]
  },
  {
   "cell_type": "code",
   "execution_count": 3,
   "metadata": {
    "colab": {
     "base_uri": "https://localhost:8080/",
     "height": 328
    },
    "id": "G_kVQRxCW7cs",
    "outputId": "577d0f32-8e93-424c-e1fc-16953836e17b"
   },
   "outputs": [
    {
     "data": {
      "image/png": "[encoded data removed]",
      "text/plain": [
       "<Figure size 720x360 with 10 Axes>"
      ]
     },
     "metadata": {
      "needs_background": "light",
      "tags": []
     },
     "output_type": "display_data"
    }
   ],
   "source": [
    "import matplotlib.pyplot as plt\n",
    "\n",
    "\n",
    "def plot_image(im, shape=(28,28)):\n",
    "    '''Plot one image after reshaping.'''\n",
    "    im = im.reshape(shape)  # reshape the digit to be 28x28\n",
    "    plt.imshow(im, cmap='binary')\n",
    "\n",
    "def plot_ten_images(x, y, shape=(28,28)):\n",
    "    '''Plot the first ten images from x in a 2x5 plot, after reshaping.'''\n",
    "    plt.figure(figsize=(10,5))  # new figure with height=5, width=10\n",
    "    for i in range(10):\n",
    "        plt.subplot(2, 5, i+1)\n",
    "        image = x[i, :]\n",
    "        plot_image(image, shape=shape)\n",
    "        plt.title(\"label: \" + str(y[i]))\n",
    "\n",
    "\n",
    "plot_ten_images(x,y,shape=(28,28))"
   ]
  },
  {
   "cell_type": "markdown",
   "metadata": {
    "id": "HEs6VorSIFaW"
   },
   "source": [
    "## Splitting data into training and test"
   ]
  },
  {
   "cell_type": "code",
   "execution_count": 4,
   "metadata": {
    "colab": {
     "base_uri": "https://localhost:8080/",
     "height": 120
    },
    "id": "4PEnMQ7hIJ5G",
    "outputId": "864d230c-c420-4b20-91bf-ffe49056f73f"
   },
   "outputs": [
    {
     "name": "stdout",
     "output_type": "stream",
     "text": [
      "[2037 1579  488   89 1589 1458  694 1599 1296 1587]\n",
      "1734 1734\n",
      "1156 1156\n",
      "(1734, 784) (1734,)\n",
      "(1156, 784) (1156,)\n"
     ]
    }
   ],
   "source": [
    "# x: 1000, 784; y=1000\n",
    "tr_frac = 0.6\n",
    "\n",
    "n_samples = x.shape[0]\n",
    "\n",
    "n_tr = int(tr_frac*n_samples)\n",
    "n_ts = n_samples - n_tr\n",
    "\n",
    "# create a vector of indices from 0 to 999 = [0, 1, 2, ... 999]\n",
    "idx = np.linspace(0, n_samples, num=n_samples, endpoint=False, dtype='int')\n",
    "np.random.shuffle(idx)  # shuffling the elements of idx (in-place)\n",
    "\n",
    "print(idx[:10])\n",
    "\n",
    "tr_idx = idx[:n_tr]  # extract the subset of training indices (first n_tr samples)\n",
    "ts_idx = idx[n_tr:]  # extract the subset of training indices (first n_tr samples)\n",
    "\n",
    "xtr = x[tr_idx,:] \n",
    "ytr = y[tr_idx]\n",
    "\n",
    "xts = x[ts_idx,:] \n",
    "yts = y[ts_idx]\n",
    "\n",
    "print(n_tr, tr_idx.size)\n",
    "print(n_ts, ts_idx.size)\n",
    "print(xtr.shape, ytr.shape)\n",
    "print(xts.shape, yts.shape)\n",
    "\n",
    "assert(n_tr==tr_idx.size)\n",
    "assert(n_ts==ts_idx.size)"
   ]
  },
  {
   "cell_type": "code",
   "execution_count": 5,
   "metadata": {
    "id": "WSB4Y2HkOzu3"
   },
   "outputs": [],
   "source": [
    "def data_split(x, y, tr_frac=0.6):\n",
    "    n_samples = x.shape[0]\n",
    "\n",
    "    n_tr = int(tr_frac*n_samples)\n",
    "    n_ts = n_samples - n_tr\n",
    "\n",
    "    # create a vector of indices from 0 to 999 = [0, 1, 2, ... n_samples-1]\n",
    "    idx = np.linspace(0, n_samples, num=n_samples, endpoint=False, dtype='int')\n",
    "    np.random.shuffle(idx)  # shuffling the elements of idx (in-place)\n",
    "\n",
    "    tr_idx = idx[:n_tr]  # extract the subset of training indices \n",
    "    ts_idx = idx[n_tr:]  # extract the subset of test indices \n",
    "\n",
    "    # check coherence with the number of extracted elements\n",
    "    assert(n_tr==tr_idx.size)\n",
    "    assert(n_ts==ts_idx.size)\n",
    "\n",
    "    xtr = x[tr_idx,:] \n",
    "    ytr = y[tr_idx]\n",
    "    xts = x[ts_idx,:] \n",
    "    yts = y[ts_idx]\n",
    "    return xtr, ytr, xts, yts\n",
    "\n",
    "\n",
    "tr_frac = 0.6\n",
    "xtr, ytr, xts, yts = data_split(x, y, tr_frac=tr_frac)\n"
   ]
  },
  {
   "cell_type": "markdown",
   "metadata": {
    "id": "R1Syau-KbSN6"
   },
   "source": [
    "## Implementing the fit function\n",
    "\n",
    "We now implement the fit function of the nearest-mean-centroid (NMC) classifier. It consists of estimating the average centroid for each class. Then, during prediction, the classifier will assign the input sample to the class of the closest centroid.\n",
    "\n",
    "Let's start by estimating the centroid for class 0."
   ]
  },
  {
   "cell_type": "code",
   "execution_count": 6,
   "metadata": {
    "colab": {
     "base_uri": "https://localhost:8080/",
     "height": 378
    },
    "id": "7RAlqFZ8mXKZ",
    "outputId": "f12e561e-fa87-4080-dbdd-b9144c7d807d"
   },
   "outputs": [
    {
     "name": "stdout",
     "output_type": "stream",
     "text": [
      "188\n",
      "188\n",
      "(784,)\n"
     ]
    },
    {
     "data": {
      "image/png": "[encoded data removed]",
      "text/plain": [
       "<Figure size 720x360 with 10 Axes>"
      ]
     },
     "metadata": {
      "needs_background": "light",
      "tags": []
     },
     "output_type": "display_data"
    }
   ],
   "source": [
    "# fit my classification function (estimate centroids from training data)\n",
    "x0 = xtr[ytr==0, :]\n",
    "y0 = ytr[ytr==0]\n",
    "\n",
    "print(y0.size)\n",
    "print(x0.shape[0])\n",
    "\n",
    "plot_ten_images(x0,y0,shape=(28,28))\n",
    "\n",
    "centroid0 = x0.mean(axis=0)\n",
    "print(centroid0.shape)"
   ]
  },
  {
   "cell_type": "code",
   "execution_count": 7,
   "metadata": {
    "colab": {
     "base_uri": "https://localhost:8080/",
     "height": 286
    },
    "id": "ipbJIfc_tASV",
    "outputId": "f99a04ac-21a5-4baf-efa5-2522f8a9f631"
   },
   "outputs": [
    {
     "data": {
      "image/png": "[encoded data removed]",
      "text/plain": [
       "<Figure size 432x288 with 1 Axes>"
      ]
     },
     "metadata": {
      "needs_background": "light",
      "tags": []
     },
     "output_type": "display_data"
    }
   ],
   "source": [
    "plot_image(centroid0)"
   ]
  },
  {
   "cell_type": "markdown",
   "metadata": {
    "id": "06AixVIkb30Z"
   },
   "source": [
    "We can now generalize our algorithm to compute the centroids of all classes."
   ]
  },
  {
   "cell_type": "code",
   "execution_count": 8,
   "metadata": {
    "colab": {
     "base_uri": "https://localhost:8080/",
     "height": 345
    },
    "id": "S-I774YbtVZ0",
    "outputId": "9e4a6c8c-4841-4979-8997-28557ae84378"
   },
   "outputs": [
    {
     "name": "stdout",
     "output_type": "stream",
     "text": [
      "(10, 784)\n"
     ]
    },
    {
     "data": {
      "image/png": "[encoded data removed]",
      "text/plain": [
       "<Figure size 720x360 with 10 Axes>"
      ]
     },
     "metadata": {
      "needs_background": "light",
      "tags": []
     },
     "output_type": "display_data"
    }
   ],
   "source": [
    "# compute centroid for each class\n",
    "num_features = xtr.shape[1]\n",
    "centroids = np.zeros(shape=(num_classes, num_features))\n",
    "labels = np.zeros(shape=(num_classes, ), dtype='int')\n",
    "print(centroids.shape)\n",
    "\n",
    "for i in range(num_classes):\n",
    "    xi = xtr[ytr==i, :]  # all digits from class i\n",
    "    centroids[i,:] = xi.mean(axis=0)  # average digit for class i\n",
    "    labels[i] = i  # label of i-th centroid\n",
    "\n",
    "plot_ten_images(centroids,labels,shape=(28,28))"
   ]
  },
  {
   "cell_type": "markdown",
   "metadata": {
    "id": "mqnnoYracZRj"
   },
   "source": [
    "Finally, we create the function ```fit```."
   ]
  },
  {
   "cell_type": "code",
   "execution_count": 15,
   "metadata": {
    "colab": {
     "base_uri": "https://localhost:8080/",
     "height": 328
    },
    "id": "AM3Sc2HGxTh1",
    "outputId": "30b57868-d853-4385-f139-2f7cda25740b"
   },
   "outputs": [
    {
     "data": {
      "image/png": "[encoded data removed]",
      "text/plain": [
       "<Figure size 720x360 with 10 Axes>"
      ]
     },
     "metadata": {
      "needs_background": "light",
      "tags": []
     },
     "output_type": "display_data"
    }
   ],
   "source": [
    "def fit(x_tr, y_tr):\n",
    "    \"\"\"Estimate the centroid for each class from the training data\"\"\"\n",
    "    labels = np.unique(y_tr) \n",
    "    centroids = np.zeros(shape=(labels.size, x_tr.shape[1]))\n",
    "\n",
    "    for i, label in enumerate(labels):\n",
    "        centroids[i,:] = x_tr[y_tr==label, :].mean(axis=0)  # centr. for class i\n",
    "\n",
    "    return centroids, labels\n",
    "\n",
    "\n",
    "centroids, labels = fit(xtr, ytr)\n",
    "\n",
    "plot_ten_images(centroids,labels,shape=(28,28))"
   ]
  },
  {
   "cell_type": "markdown",
   "metadata": {
    "id": "XXYtzTtfQyLs"
   },
   "source": [
    "## Predict"
   ]
  },
  {
   "cell_type": "code",
   "execution_count": 10,
   "metadata": {
    "colab": {
     "base_uri": "https://localhost:8080/",
     "height": 186
    },
    "id": "ul87S7CoQ0jX",
    "outputId": "b9e3b414-0d5b-4d13-f1f3-f58d7b1d28fd"
   },
   "outputs": [
    {
     "name": "stdout",
     "output_type": "stream",
     "text": [
      "(1156, 10)\n",
      "[ True  True  True ...  True  True  True]\n",
      "[[9.43200426 8.7588766  7.6320701  ... 8.31379008 7.16683703 6.51529299]\n",
      " [9.46311483 7.89757756 7.48725704 ... 8.15301221 6.45012921 7.56358723]\n",
      " [8.93136554 8.35288005 8.27245979 ... 6.69798339 7.0391999  5.8127405 ]\n",
      " ...\n",
      " [8.69252527 9.37170297 6.24023453 ... 8.07414166 7.69937411 8.44608572]\n",
      " [9.40444617 9.13321537 7.80564674 ... 9.37666901 8.77091258 9.7475813 ]\n",
      " [9.60934696 9.77408603 9.41026704 ... 8.91474088 6.90341196 7.88296315]]\n"
     ]
    }
   ],
   "source": [
    "# xts, centroids\n",
    "\n",
    "n_samples = xts.shape[0]\n",
    "n_classes = centroids.shape[0]\n",
    "dist = np.zeros(shape=(n_samples, n_classes))\n",
    "ypred = np.zeros(shape=(n_samples, ), dtype='int')\n",
    "\n",
    "print(dist.shape)\n",
    "\n",
    "for i in range(n_samples):\n",
    "    for k in range(n_classes):\n",
    "        dist[i,k] = np.linalg.norm(xts[i,:]-centroids[k,:], ord=2)\n",
    "    ypred[i] = np.argmin(dist[i,:])\n",
    "\n",
    "ypred2 = np.argmin(dist, axis=1)\n",
    "print(ypred==ypred2)\n",
    "\n",
    "dist2 = np.zeros(shape=(n_samples, n_classes))\n",
    "for i in range(n_samples):\n",
    "    dist2[i,:] = np.linalg.norm(xts[i,:]-centroids, ord=2, axis=1)\n",
    "print(dist2)"
   ]
  },
  {
   "cell_type": "code",
   "execution_count": 11,
   "metadata": {
    "colab": {
     "base_uri": "https://localhost:8080/",
     "height": 319
    },
    "id": "MJj5qPSShzXB",
    "outputId": "3a1c26d4-2278-4173-903d-2918bcf08db4"
   },
   "outputs": [
    {
     "name": "stdout",
     "output_type": "stream",
     "text": [
      "(1156, 784)\n",
      "(1156, 784)\n",
      "(1156, 784)\n",
      "(1156, 784)\n",
      "(1156, 784)\n",
      "(1156, 784)\n",
      "(1156, 784)\n",
      "(1156, 784)\n",
      "(1156, 784)\n",
      "(1156, 784)\n",
      "[[9.43200426 8.7588766  7.6320701  ... 8.31379008 7.16683703 6.51529299]\n",
      " [9.46311483 7.89757756 7.48725704 ... 8.15301221 6.45012921 7.56358723]\n",
      " [8.93136554 8.35288005 8.27245979 ... 6.69798339 7.0391999  5.8127405 ]\n",
      " ...\n",
      " [8.69252527 9.37170297 6.24023453 ... 8.07414166 7.69937411 8.44608572]\n",
      " [9.40444617 9.13321537 7.80564674 ... 9.37666901 8.77091258 9.7475813 ]\n",
      " [9.60934696 9.77408603 9.41026704 ... 8.91474088 6.90341196 7.88296315]]\n"
     ]
    }
   ],
   "source": [
    "dist3 = np.zeros(shape=(n_samples, n_classes))\n",
    "for k in range(n_classes):\n",
    "    m = xts-centroids[k,:]\n",
    "    print(m.shape)\n",
    "    dist3[:, k] = np.linalg.norm(xts-centroids[k,:], ord=2, axis=1)\n",
    "print(dist3)"
   ]
  },
  {
   "cell_type": "code",
   "execution_count": 12,
   "metadata": {
    "colab": {
     "base_uri": "https://localhost:8080/",
     "height": 153
    },
    "id": "syRo9o6-jJdm",
    "outputId": "480b9938-b0e3-46e3-985b-1ac97cd24810"
   },
   "outputs": [
    {
     "name": "stdout",
     "output_type": "stream",
     "text": [
      "[[9.43200426 8.7588766  7.6320701  ... 8.31379008 7.16683703 6.51529299]\n",
      " [9.46311483 7.89757756 7.48725704 ... 8.15301221 6.45012921 7.56358723]\n",
      " [8.93136554 8.35288005 8.27245979 ... 6.69798339 7.0391999  5.8127405 ]\n",
      " ...\n",
      " [8.69252527 9.37170297 6.24023453 ... 8.07414166 7.69937411 8.44608572]\n",
      " [9.40444617 9.13321537 7.80564674 ... 9.37666901 8.77091258 9.7475813 ]\n",
      " [9.60934696 9.77408603 9.41026704 ... 8.91474088 6.90341196 7.88296315]]\n"
     ]
    }
   ],
   "source": [
    "from sklearn.metrics import pairwise_distances\n",
    "\n",
    "dist = pairwise_distances(xts, centroids)  # dist.shape = (400, 10)\n",
    "ypred = np.argmin(dist, axis=1)\n",
    "\n",
    "print(dist)"
   ]
  },
  {
   "cell_type": "code",
   "execution_count": 13,
   "metadata": {
    "id": "6KRUZ8ahdKp_"
   },
   "outputs": [],
   "source": [
    "def predict_for_loops(xts, centroids):\n",
    "    n_samples = xts.shape[0]\n",
    "    n_classes = centroids.shape[0]\n",
    "    dist = np.zeros(shape=(n_samples, n_classes))\n",
    "    ypred = np.zeros(shape=(n_samples, ), dtype='int')\n",
    "\n",
    "    for i in range(n_samples):\n",
    "        for k in range(n_classes):\n",
    "            dist[i,k] = np.linalg.norm(xts[i,:]-centroids[k,:], ord=2)\n",
    "        ypred[i] = np.argmin(dist[i,:])\n",
    "    \n",
    "    return ypred\n",
    "\n",
    "\n",
    "def predict(xts, centroids):\n",
    "    dist = pairwise_distances(xts, centroids)  # dist.shape = (400, 10)\n",
    "    ypred = np.argmin(dist, axis=1)\n",
    "    return ypred"
   ]
  },
  {
   "cell_type": "markdown",
   "metadata": {
    "id": "Mqn4-D6nlV_U"
   },
   "source": [
    "## Evaluate test error\n"
   ]
  },
  {
   "cell_type": "code",
   "execution_count": 14,
   "metadata": {
    "colab": {
     "base_uri": "https://localhost:8080/",
     "height": 87
    },
    "id": "H6QgnC2_lbXW",
    "outputId": "14d59ede-c6f9-44ff-91ce-84c6936ed404"
   },
   "outputs": [
    {
     "name": "stdout",
     "output_type": "stream",
     "text": [
      "156\n",
      "Error:  13.494809688581315 %\n",
      "Error:  13.494809688581316 %\n"
     ]
    }
   ],
   "source": [
    "# Given yts, ypred, how do I compute the test error?\n",
    "err=0\n",
    "n_samples = yts.size\n",
    "for i in range(n_samples):\n",
    "    if yts[i]!=ypred[i]:\n",
    "        err += 1\n",
    "\n",
    "print(err)\n",
    "print(\"Error: \", 100.0*err/n_samples, \"%\")\n",
    "\n",
    "# print(yts!=ypred)\n",
    "print(\"Error: \", 100.0*(yts!=ypred).mean(), \"%\")\n",
    "\n"
   ]
  }
 ],
 "metadata": {
  "colab": {
   "authorship_tag": "ABX9TyOK50ILWhkDsTihpRdswJJ9",
   "collapsed_sections": [],
   "include_colab_link": true,
   "name": "lab02.ipynb",
   "provenance": []
  },
  "kernelspec": {
   "display_name": "Python 3",
   "name": "python3"
  }
 },
 "nbformat": 4,
 "nbformat_minor": 0
}
