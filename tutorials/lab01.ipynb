{
 "cells": [
  {
   "cell_type": "markdown",
   "metadata": {
    "colab_type": "text",
    "id": "view-in-github"
   },
   "source": [
    "<a href=\"https://colab.research.google.com/github/unica-ml/ml/blob/master/notebooks/lab01.ipynb\" target=\"_parent\"><img src=\"https://colab.research.google.com/assets/colab-badge.svg\" alt=\"Open In Colab\"/></a>"
   ]
  },
  {
   "cell_type": "markdown",
   "metadata": {
    "colab_type": "text",
    "id": "rSCct8vUTjjx"
   },
   "source": [
    "# Machine Learning - Lab01\n",
    "\n",
    "## **Exercise 1**\n",
    "- Create an ndarray ```x``` with shape=(5,4) containing random numbers. Each of the 5 rows `epresents a sample with 4 features.\n",
    "\n",
    "- Create a flat ndarray ```y``` of ```shape=(5, )```, whose elements are 0 and 1.\n",
    "Each element is the class label of the corresponding sample in ```x```.\n",
    "\n",
    "- This is a simple example of a two-class dataset!\n",
    "\n",
    "**Hint:** use ```np.random.rand(...)``` and ```np.random.randint(...)```"
   ]
  },
  {
   "cell_type": "code",
   "execution_count": 0,
   "metadata": {
    "colab": {
     "base_uri": "https://localhost:8080/",
     "height": 153
    },
    "colab_type": "code",
    "id": "TrUoTNo9TcAp",
    "outputId": "060d7a6b-eca1-4faa-d361-2c0158837cda"
   },
   "outputs": [
    {
     "name": "stdout",
     "output_type": "stream",
     "text": [
      "x = \n",
      " [[0.17069494 0.03770676 0.99979726 0.6774094 ]\n",
      " [0.26877433 0.13784261 0.72835031 0.82410774]\n",
      " [0.28165136 0.97955105 0.88056525 0.90652879]\n",
      " [0.28316797 0.95529736 0.10284505 0.26986831]\n",
      " [0.70393971 0.8956021  0.48534449 0.71599334]]\n",
      "y = \n",
      " [1 1 1 0 0]\n"
     ]
    }
   ],
   "source": [
    "import numpy as np\n",
    "\n",
    "n_samples = 5\n",
    "n_features = 4\n",
    "x = np.random.rand(n_samples, n_features)\n",
    "y = np.random.randint(0, 2, n_samples)\n",
    "\n",
    "print('x = \\n', x)\n",
    "print('y = \\n', y)"
   ]
  },
  {
   "cell_type": "markdown",
   "metadata": {
    "colab_type": "text",
    "id": "9CSR2JXsU5eQ"
   },
   "source": [
    "## **Exercise 2**\n",
    "\n",
    "Define a function ```extract_subset(x, y, y0)``` that takes as input:\n",
    "- the feature matrix ```x``` and the labels ```y``` (from the previous exercise),\n",
    "- a target class ```y0``` (i.e., either 0 or 1),\n",
    "and returns a feature matrix containing only samples belonging to ```y0```\n",
    "\n",
    "**Hint:** use array indexing with ```y==y0```"
   ]
  },
  {
   "cell_type": "code",
   "execution_count": 0,
   "metadata": {
    "colab": {
     "base_uri": "https://localhost:8080/",
     "height": 221
    },
    "colab_type": "code",
    "id": "c5zESEX2V6zG",
    "outputId": "4032a796-50c9-40ff-a405-76e8adbf5c4d"
   },
   "outputs": [
    {
     "name": "stdout",
     "output_type": "stream",
     "text": [
      "x: \n",
      " [[0.50930794 0.34987588 0.64064233 0.46175565]\n",
      " [0.68440698 0.24908666 0.10066267 0.70397305]\n",
      " [0.90067763 0.95918709 0.32564421 0.56097037]\n",
      " [0.69391657 0.86712593 0.75417251 0.95245483]\n",
      " [0.37308444 0.72400453 0.94547073 0.02179429]]\n",
      "y: \n",
      " [0 0 0 1 1]\n",
      "Patterns belonging to class  0 :\n",
      " [[0.50930794 0.34987588 0.64064233 0.46175565]\n",
      " [0.68440698 0.24908666 0.10066267 0.70397305]\n",
      " [0.90067763 0.95918709 0.32564421 0.56097037]]\n"
     ]
    }
   ],
   "source": [
    "def extract_subset(x, y, y0):\n",
    "    \"\"\"Return samples (rows) from x that belong to class y0.\"\"\"\n",
    "    return x[y==y0, :]\n",
    "\n",
    "\n",
    "n_patterns = 5\n",
    "n_features = 4\n",
    "x = np.random.rand(n_patterns, n_features)\n",
    "y = np.random.randint(0, 2, n_patterns)\n",
    "\n",
    "y0 = 0\n",
    "x0 = extract_subset(x, y, y0)\n",
    "\n",
    "print('x: \\n', x)\n",
    "print('y: \\n', y)\n",
    "print('Patterns belonging to class ', y0, ':\\n', x0)\n",
    "\n"
   ]
  },
  {
   "cell_type": "markdown",
   "metadata": {
    "colab_type": "text",
    "id": "W8YNXxAuXC2q"
   },
   "source": [
    "## **Exercise 3**\n",
    "\n",
    "- Define a function ```min_feature_values(x)``` that returns the minimum value of each feature in ```x```.\n",
    "- Apply it on the previously-extracted samples ```x0``` of class 0.\n",
    "\n",
    "**Hint:** use ```np.min()``` with a proper ```axis``` value."
   ]
  },
  {
   "cell_type": "code",
   "execution_count": 0,
   "metadata": {
    "colab": {
     "base_uri": "https://localhost:8080/",
     "height": 34
    },
    "colab_type": "code",
    "id": "VxiU-dEjXdQM",
    "outputId": "53d40f61-5968-4609-814c-8e58d318a9b6"
   },
   "outputs": [
    {
     "name": "stdout",
     "output_type": "stream",
     "text": [
      "min. feat. values:  [0.50930794 0.24908666 0.10066267 0.46175565]\n"
     ]
    }
   ],
   "source": [
    "def min_feature_values(x):\n",
    "    \"\"\"Return the minimum value for each feature (column).\"\"\"\n",
    "    return np.min(x, axis=0)\n",
    "\n",
    "print('min. feat. values: ', min_feature_values(x0))"
   ]
  },
  {
   "cell_type": "markdown",
   "metadata": {
    "colab_type": "text",
    "id": "lMkEig21YVfo"
   },
   "source": [
    "## **Exercise 4**\n",
    "\n",
    "Define a function ```make_gaussian_dataset(n0, n1, mu0, mu1)``` \u000b",
    "that generates a two-class Gaussian dataset in a bi-dimensional space.\n",
    "\n",
    "- ```n0, n1``` are the number of samples for class 0 and class 1;\n",
    "- ```mu0, mu1``` are the means of the two Gaussians (one per class).\n",
    "\n",
    "We consider only Gaussian distributions with covariance equal to the identity matrix here for simplicity.\n",
    "\n",
    "The function returns the corresponding feature matrix ```x``` and labels ```y```.\n",
    "\n",
    "**Hints:**\n",
    "- Use ```np.random.randn(...)``` to generate random numbers from a standard Gaussian distribution, with zero mean and unit variance, and then transform them to have a different mean (repeat twice, one per class).\n",
    "- Use ```np.ones(...)``` and/or ```np.zeros(...)``` for class labels.\n",
    "- Use ```np.vstack(...)``` and ```np.hstack(...)``` to concatenate arrays.\n"
   ]
  },
  {
   "cell_type": "code",
   "execution_count": 0,
   "metadata": {
    "colab": {
     "base_uri": "https://localhost:8080/",
     "height": 408
    },
    "colab_type": "code",
    "id": "79OOGsnRY1E6",
    "outputId": "39e050f7-f079-4cd0-f6c0-b535a6f8048a"
   },
   "outputs": [
    {
     "name": "stdout",
     "output_type": "stream",
     "text": [
      "xn:\n",
      " [[-0.69899482 -1.06844759]\n",
      " [ 0.63717269 -1.4456145 ]\n",
      " [-1.35037329 -0.57810285]\n",
      " [-1.12160324 -0.88613524]\n",
      " [-0.00388741 -2.0748431 ]\n",
      " [ 1.22436656 -0.59756577]\n",
      " [ 0.4401931  -2.38286629]\n",
      " [-0.39600529 -2.55879318]\n",
      " [ 0.54321647  0.47937146]\n",
      " [ 0.16100627 -1.29317353]\n",
      " [-0.50936291  1.40397979]\n",
      " [ 0.31331909  1.24311831]\n",
      " [ 0.01237789  1.40329076]\n",
      " [-0.62192459  1.92607024]\n",
      " [ 1.534028    1.00074474]\n",
      " [ 1.46433523  0.11743643]\n",
      " [ 2.16103522  0.17506456]\n",
      " [ 0.82799606  1.7097106 ]\n",
      " [-1.17990394  2.02954165]\n",
      " [ 0.86198684  1.3350841 ]]\n",
      "yn:\n",
      " [0. 0. 0. 0. 0. 0. 0. 0. 0. 0. 1. 1. 1. 1. 1. 1. 1. 1. 1. 1.]\n"
     ]
    }
   ],
   "source": [
    "def make_gaussian_dataset(n0, n1, mu0, mu1):\u000b",
    "\n",
    "    \"\"\" Creates a 2-class 2-dimensional Gaussian dataset. \"\"\"\u000b",
    "\n",
    "    d = 2  # hard-coded for convenience, we will improve this later on\u000b",
    "\u000b",
    "\n",
    "    x0 = np.random.randn(n0, d) + mu0  # uses broadcasting...\u000b",
    " \n",
    "    x1 = np.random.randn(n1, d) + mu1\u000b",
    "\n",
    "    # sample labels\n",
    "    y0 = np.zeros(n0)\n",
    "    y1 = np.ones(n1)\u000b",
    "\n",
    "    # concatenate data and labels\u000b",
    " \n",
    "    x = np.vstack((x0, x1))\u000b",
    " \n",
    "    y = np.hstack((y0, y1))\u000b",
    "\u000b",
    "\n",
    "    return x, y\n",
    "\n",
    "\u000b",
    "# generate data with 10 samples/class, and means [-1,-1], [1, 1]\n",
    "\u000b",
    "xn, yn = make_gaussian_dataset(10, 10, [-1, -1], [+1, +1])\u000b",
    "\n",
    "print('xn:\\n', xn)\n",
    "\u000b",
    "print('yn:\\n', yn)"
   ]
  }
 ],
 "metadata": {
  "colab": {
   "authorship_tag": "ABX9TyNra3nqmkV/jc3hXKKmtwt2",
   "collapsed_sections": [],
   "include_colab_link": true,
   "name": "lab01.ipynb",
   "provenance": []
  },
  "kernelspec": {
   "display_name": "Python 3",
   "name": "python3"
  }
 },
 "nbformat": 4,
 "nbformat_minor": 0
}
